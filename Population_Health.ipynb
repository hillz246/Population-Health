{
 "cells": [
  {
   "cell_type": "markdown",
   "id": "71a30701",
   "metadata": {},
   "source": [
    "# Population Health Analyst — Round 3 Practice (Google Colab)\n",
    "\n",
    "This notebook is a **guided, hands-on simulation** of a technical take-home:\n",
    "1) **Load & explore** a mock claims dataset  \n",
    "2) **Run SQL-style analyses** (via SQLite) for utilization & cost  \n",
    "3) **Risk stratification** with Python (Pandas)  \n",
    "4) **KPIs & visualizations** (matplotlib, no seaborn)  \n",
    "5) **Export artifacts** for Tableau (CSV extracts)\n",
    "\n",
    "> ✅ Tip: Run each cell in order. If you're in **Google Colab**, use the **Upload** cell to bring in the CSV.\n"
   ]
  },
  {
   "cell_type": "code",
   "execution_count": null,
   "id": "4d16ce95",
   "metadata": {},
   "outputs": [],
   "source": [
    "# --- SETUP ---\n",
    "# (Colab usually has these preinstalled, but we import explicitly for clarity.)\n",
    "import pandas as pd\n",
    "import numpy as np\n",
    "import matplotlib.pyplot as plt\n",
    "import sqlite3\n",
    "from io import StringIO\n",
    "\n",
    "pd.set_option('display.max_columns', 50)\n",
    "pd.set_option('display.width', 120)"
   ]
  },
  {
   "cell_type": "markdown",
   "id": "9290b069",
   "metadata": {},
   "source": [
    "## 1) Get the data into this notebook\n",
    "\n",
    "**Option A (Preferred): Upload the CSV from your computer**  \n",
    "1. Download the dataset from your ChatGPT conversation: `mock_claims_data.csv`  \n",
    "2. In Colab, run the next cell and use the file picker.\n",
    "\n",
    "**Option B:** If you're not in Colab, place the CSV in the same directory as this notebook and set `CSV_PATH` manually.\n"
   ]
  },
  {
   "cell_type": "code",
   "execution_count": null,
   "id": "26047d0f",
   "metadata": {},
   "outputs": [],
   "source": [
    "# --- UPLOAD (Colab) ---\n",
    "# If running in Google Colab, this will open a file picker. Select mock_claims_data.csv.\n",
    "CSV_PATH = \"mock_claims_data.csv\"  # fallback default\n",
    "try:\n",
    "    from google.colab import files  # will fail locally but fine in Colab\n",
    "    uploaded = files.upload()       # prompts user\n",
    "    if uploaded:\n",
    "        CSV_PATH = list(uploaded.keys())[0]\n",
    "        print(\"Using uploaded file:\", CSV_PATH)\n",
    "except Exception as e:\n",
    "    print(\"Colab upload not available. If running locally, ensure the CSV is next to this notebook.\")\n",
    "    print(\"Using default path:\", CSV_PATH)"
   ]
  },
  {
   "cell_type": "markdown",
   "id": "e6d21fd3",
   "metadata": {},
   "source": [
    "## 2) Load & sanity-check the dataset\n",
    "We'll read the claims CSV and look at schema, missingness, and a few descriptive stats.\n"
   ]
  },
  {
   "cell_type": "code",
   "execution_count": null,
   "id": "b4873cba",
   "metadata": {},
   "outputs": [],
   "source": [
    "df = pd.read_csv(CSV_PATH)\n",
    "print(\"Rows, Cols:\", df.shape)\n",
    "df.head()"
   ]
  },
  {
   "cell_type": "code",
   "execution_count": null,
   "id": "cebf4e5e",
   "metadata": {},
   "outputs": [],
   "source": [
    "# Basic info & null checks\n",
    "df.info()\n",
    "print(\"\\nMissing values per column:\")\n",
    "print(df.isna().sum())\n",
    "print(\"\\nQuick describe (numeric):\")\n",
    "display(df[['age','ed_visits','inpatient_admissions','total_cost','risk_score']].describe())"
   ]
  },
  {
   "cell_type": "markdown",
   "id": "76a97a9d",
   "metadata": {},
   "source": [
    "## 3) SQL-style analysis with SQLite\n",
    "We'll load the DataFrame into an **in-memory SQLite database** and practice typical queries.\n",
    "\n",
    "**Practice Prompts:**\n",
    "1. Top 5% highest-cost patients  \n",
    "2. Avg ED visits by chronic condition  \n",
    "3. Providers with above-average inpatient admissions per 100 patients  \n",
    "4. Monthly trend of total ED visits\n"
   ]
  },
  {
   "cell_type": "code",
   "execution_count": null,
   "id": "4c1fe8d1",
   "metadata": {},
   "outputs": [],
   "source": [
    "# Load into SQLite\n",
    "conn = sqlite3.connect(\":memory:\")\n",
    "df.to_sql(\"claims\", conn, index=False, if_exists=\"replace\")\n",
    "\n",
    "# 1) Top 5% highest-cost patients\n",
    "threshold = df['total_cost'].quantile(0.95)\n",
    "q1 = f\"\"\"\n",
    "SELECT patient_id, age, gender, chronic_condition, ed_visits, inpatient_admissions, total_cost, provider_id, risk_score, payer, month\n",
    "FROM claims\n",
    "WHERE total_cost >= {threshold};\n",
    "\"\"\"\n",
    "top5 = pd.read_sql(q1, conn)\n",
    "print(\"Top 5% by total_cost (threshold >= {:.2f})\".format(threshold))\n",
    "top5.head(10)"
   ]
  },
  {
   "cell_type": "code",
   "execution_count": null,
   "id": "d225c663",
   "metadata": {},
   "outputs": [],
   "source": [
    "# 2) Avg ED visits by chronic condition\n",
    "q2 = \"\"\"\n",
    "SELECT chronic_condition, AVG(ed_visits) AS avg_ed_visits, COUNT(*) AS n\n",
    "FROM claims\n",
    "GROUP BY chronic_condition\n",
    "ORDER BY avg_ed_visits DESC;\n",
    "\"\"\"\n",
    "pd.read_sql(q2, conn)"
   ]
  },
  {
   "cell_type": "code",
   "execution_count": null,
   "id": "9cebe7fa",
   "metadata": {},
   "outputs": [],
   "source": [
    "# 3) Providers with above-average inpatient admissions per 100 patients\n",
    "q3 = \"\"\"\n",
    "WITH per_provider AS (\n",
    "  SELECT provider_id,\n",
    "         AVG(inpatient_admissions) AS avg_adm_per_patient,\n",
    "         COUNT(*) AS patients\n",
    "  FROM claims\n",
    "  GROUP BY provider_id\n",
    "),\n",
    "summary AS (\n",
    "  SELECT AVG(avg_adm_per_patient) AS network_avg\n",
    "  FROM per_provider\n",
    ")\n",
    "SELECT p.provider_id,\n",
    "       p.avg_adm_per_patient * 100.0 AS admissions_per_100,\n",
    "       p.patients,\n",
    "       s.network_avg * 100.0 AS network_avg_per_100\n",
    "FROM per_provider p, summary s\n",
    "WHERE p.avg_adm_per_patient > s.network_avg\n",
    "ORDER BY admissions_per_100 DESC;\n",
    "\"\"\"\n",
    "pd.read_sql(q3, conn)"
   ]
  },
  {
   "cell_type": "code",
   "execution_count": null,
   "id": "c4dcd428",
   "metadata": {},
   "outputs": [],
   "source": [
    "# 4) Monthly trend of total ED visits\n",
    "q4 = \"\"\"\n",
    "SELECT month, SUM(ed_visits) AS total_ed_visits\n",
    "FROM claims\n",
    "GROUP BY month\n",
    "ORDER BY\n",
    "  CASE month\n",
    "    WHEN 'Jan' THEN 1 WHEN 'Feb' THEN 2 WHEN 'Mar' THEN 3 WHEN 'Apr' THEN 4\n",
    "    WHEN 'May' THEN 5 WHEN 'Jun' THEN 6 WHEN 'Jul' THEN 7 WHEN 'Aug' THEN 8\n",
    "    WHEN 'Sep' THEN 9 WHEN 'Oct' THEN 10 WHEN 'Nov' THEN 11 WHEN 'Dec' THEN 12\n",
    "  END;\n",
    "\"\"\"\n",
    "monthly_ed = pd.read_sql(q4, conn)\n",
    "monthly_ed"
   ]
  },
  {
   "cell_type": "code",
   "execution_count": null,
   "id": "eaf351ab",
   "metadata": {},
   "outputs": [],
   "source": [
    "# Plot monthly ED visits (matplotlib, single-plot, default colors)\n",
    "plt.figure()\n",
    "plt.plot(monthly_ed['month'], monthly_ed['total_ed_visits'], marker='o')\n",
    "plt.title('Monthly ED Visits (All Patients)')\n",
    "plt.xlabel('Month')\n",
    "plt.ylabel('Total ED Visits')\n",
    "plt.grid(True)\n",
    "plt.show()"
   ]
  },
  {
   "cell_type": "markdown",
   "id": "74aed12a",
   "metadata": {},
   "source": [
    "## 4) Risk stratification with Pandas\n",
    "\n",
    "**Rule (example):**\n",
    "- High Risk: `risk_score >= 2.5` **OR** `total_cost >= 20000`  \n",
    "- Medium Risk: `1.0 <= risk_score < 2.5`  \n",
    "- Low Risk: `risk_score < 1.0`\n",
    "\n",
    "We'll create a tier, then compute distribution, utilization, and cost contribution.\n"
   ]
  },
  {
   "cell_type": "code",
   "execution_count": null,
   "id": "1ee20ba7",
   "metadata": {},
   "outputs": [],
   "source": [
    "def risk_tier(row):\n",
    "    if (row['risk_score'] >= 2.5) or (row['total_cost'] >= 20000):\n",
    "        return 'High'\n",
    "    elif row['risk_score'] >= 1.0:\n",
    "        return 'Medium'\n",
    "    else:\n",
    "        return 'Low'\n",
    "\n",
    "df['risk_tier'] = df.apply(risk_tier, axis=1)\n",
    "\n",
    "tier_dist = df['risk_tier'].value_counts(normalize=True).rename('share').to_frame()\n",
    "tier_util = df.groupby('risk_tier')[['ed_visits','inpatient_admissions']].mean().round(2)\n",
    "tier_cost = (df.groupby('risk_tier')['total_cost'].sum() / df['total_cost'].sum()).rename('cost_share').to_frame()\n",
    "\n",
    "summary = tier_dist.join(tier_util).join(tier_cost).sort_values('share', ascending=False)\n",
    "summary"
   ]
  },
  {
   "cell_type": "code",
   "execution_count": null,
   "id": "cfb2ba51",
   "metadata": {},
   "outputs": [],
   "source": [
    "# Bar plot: cost share by risk tier\n",
    "tier_cost_plot = (df.groupby('risk_tier')['total_cost'].sum()\n",
    "                    .sort_values(ascending=False))\n",
    "\n",
    "plt.figure()\n",
    "tier_cost_plot.plot(kind='bar')\n",
    "plt.title('Cost Contribution by Risk Tier')\n",
    "plt.xlabel('Risk Tier')\n",
    "plt.ylabel('Total Cost')\n",
    "plt.grid(True)\n",
    "plt.show()"
   ]
  },
  {
   "cell_type": "markdown",
   "id": "e23bb95e",
   "metadata": {},
   "source": [
    "## 5) Provider performance: ED visits per 100 patients\n",
    "\n",
    "We'll compute ED visits per 100 patients for each provider and compare to network average.\n"
   ]
  },
  {
   "cell_type": "code",
   "execution_count": null,
   "id": "a1655476",
   "metadata": {},
   "outputs": [],
   "source": [
    "prov = (df.groupby('provider_id')\n",
    "          .agg(patients=('patient_id','nunique'),\n",
    "               ed_total=('ed_visits','sum'),\n",
    "               adm_total=('inpatient_admissions','sum'))\n",
    "          .reset_index())\n",
    "prov['ed_per_100'] = (prov['ed_total'] / prov['patients']) * 100.0\n",
    "network_avg = prov['ed_per_100'].mean()\n",
    "\n",
    "prov_sorted = prov.sort_values('ed_per_100', ascending=False)\n",
    "print(\"Network average ED per 100 patients:\", round(network_avg,2))\n",
    "prov_sorted.head(10)"
   ]
  },
  {
   "cell_type": "code",
   "execution_count": null,
   "id": "7c98c2df",
   "metadata": {},
   "outputs": [],
   "source": [
    "# Plot provider ED per 100 (top 10)\n",
    "top10 = prov_sorted.head(10)\n",
    "plt.figure()\n",
    "plt.bar(top10['provider_id'], top10['ed_per_100'])\n",
    "plt.title('Top 10 Providers by ED Visits per 100 Patients')\n",
    "plt.xlabel('Provider ID')\n",
    "plt.ylabel('ED Visits per 100')\n",
    "plt.xticks(rotation=45)\n",
    "plt.grid(True)\n",
    "plt.show()"
   ]
  },
  {
   "cell_type": "markdown",
   "id": "b05cfce9",
   "metadata": {},
   "source": [
    "## 6) Export extracts for Tableau (optional)\n",
    "Export clean tables you might bring into Tableau for the dashboard:\n",
    "- `claims_enriched.csv` (with `risk_tier`)\n",
    "- `provider_summary.csv`\n",
    "- `monthly_ed_trend.csv`\n"
   ]
  },
  {
   "cell_type": "code",
   "execution_count": null,
   "id": "be518861",
   "metadata": {},
   "outputs": [],
   "source": [
    "df.to_csv('claims_enriched.csv', index=False)\n",
    "prov_sorted.to_csv('provider_summary.csv', index=False)\n",
    "monthly_ed.to_csv('monthly_ed_trend.csv', index=False)\n",
    "\n",
    "print(\"Wrote: claims_enriched.csv, provider_summary.csv, monthly_ed_trend.csv\")"
   ]
  },
  {
   "cell_type": "markdown",
   "id": "73739e2f",
   "metadata": {},
   "source": [
    "## 7) Executive Summary (template)\n",
    "\n",
    "**Top Insights (examples):**\n",
    "- The top 5% highest-cost patients contribute ~X% of total spend; majority fall into **High risk** tier and are predominantly **[condition]** with **[payer]**.\n",
    "- **ED visits** show a pronounced spike in **[months]**, driven by **[condition/provider]** cohorts.\n",
    "- **Providers P00X & P00Y** exceed network ED-per-100 by **Δ**, suggesting targeted care management opportunities.\n",
    "\n",
    "**Recommendations:**\n",
    "- Enroll **High risk** CHF/Diabetes patients into care management & telehealth outreach.\n",
    "- Implement provider-level scorecards and education for ED alternatives & care pathways.\n",
    "- Stand up a monthly **utilization huddle** with clinical + operations to review cohorts and actions.\n",
    "\n",
    "**Expected Impact:**\n",
    "- ED reduction: **X–Y%** over next 2 quarters; project **$Z** savings.\n",
    "- Improved HEDIS measures tied to utilization and chronic care management.\n"
   ]
  },
  {
   "cell_type": "markdown",
   "id": "a3ba318f",
   "metadata": {},
   "source": [
    "---\n",
    "\n",
    "### You’re done!\n",
    "Next steps:\n",
    "- Build your **Tableau** dashboard using the exported CSVs.\n",
    "- Practice presenting your **Executive Summary** aloud (≤ 5 minutes).\n",
    "- Prepare answers to **stakeholder questions** (clinical & executive).\n"
   ]
  }
 ],
 "metadata": {},
 "nbformat": 4,
 "nbformat_minor": 5
}